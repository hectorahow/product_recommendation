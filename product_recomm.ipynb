{
 "cells": [
  {
   "cell_type": "markdown",
   "metadata": {},
   "source": [
    "#### PRODUCT RECOMMENDATION CODE\n",
    "\n",
    "This the code works to suggest products to users. The code uses a technique called content-based filtering, which means that it compares the features of the products that the user has viewed with the features of other products in the database. The code calculates the cosine similarity between the feature vectors of the products, which is a measure of how similar they are. The higher the cosine similarity, the more likely the user will be interested in that product. The code then sorts the products by their cosine similarity and returns the top ones as recommendations."
   ]
  },
  {
   "attachments": {
    "image.jpg": {
     "image/jpeg": "[encoded data removed]"
    }
   },
   "cell_type": "markdown",
   "metadata": {},
   "source": [
    "![image.jpg](attachment:image.jpg)"
   ]
  },
  {
   "cell_type": "markdown",
   "metadata": {},
   "source": [
    "#### 0. SUMMARY\n",
    "\n",
    "The code provided is a product recommendation algorithm that uses cosine similarity to recommend products to users based on the items they have viewed (Content-based filtering)\n",
    "\n",
    "**Steps:**\n",
    "- Load and clean the data.\n",
    "- Finalize the columns for the product recommendation algorithm.\n",
    "- Create a product list for cosine similarity.\n",
    "- Convert the text in the product list to a word count matrix.\n",
    "- Calculate the Cosine Similarity Matrix from the word counts matrix.\n",
    "- Define a function to recommend products to users based on the items they have viewed.\n",
    "- Select a user_id and get the product they have viewed.\n",
    "- Recommend products to the user based on the product they have viewed.\n",
    "\n",
    "**How it works:**\n",
    "The algorithm works by first calculating the cosine similarity between all pairs of products in the product list. Cosine similarity is a measure of how similar two vectors are. In this case, the vectors are the word count matrices for each product.\n",
    "Once the cosine similarity matrix has been calculated, the algorithm then uses it to recommend products to users. To do this, the algorithm first identifies the products that the user has viewed. Then, it finds the products that are most similar to the products the user has viewed. These are the products that the algorithm recommends to the user.\n",
    "\n",
    "**Example:** \n",
    "The following example shows the final result of the code to recommend products to a user:\n",
    "\n",
    "*“The user 512913767 viewed the item: \"electronics.smartphone xiaomi\", the recommended products are:\n",
    "\n",
    "1 electronics.smartphone huawei\n",
    "\n",
    "\n",
    "2 electronics.smartphone samsung\n",
    "\n",
    "\n",
    "3 electronics.smartphone nokia”*\n",
    "\n",
    "**This code increase sales on e-commerce websites:**\n",
    "\n",
    "The code can be used to increase sales on e-commerce websites by recommending products to users based on the items they have viewed. This can be done by displaying the recommended products to the user on the product page, in the search results, or in the user's account area.\n",
    "For example, an e-commerce website could display a section on the product page called \"Recommended Products\". This section could display the products that are most similar to the product the user is currently viewing.\n",
    "\n",
    "The e-commerce website could also display the recommended products in the search results. When a user searches for a product, the website could display the recommended products below the search results.\n",
    "Finally, the e-commerce website could display the recommended products in the user's account area. This could be done in a section called \"My Recommendations\".\n",
    "\n",
    "By recommending products to users based on the items they have viewed, e-commerce websites can increase sales by making it easier for users to find the products they want to buy."
   ]
  },
  {
   "cell_type": "markdown",
   "metadata": {},
   "source": [
    "#### 1. LOAD DATA"
   ]
  },
  {
   "cell_type": "code",
   "execution_count": 1,
   "metadata": {},
   "outputs": [],
   "source": [
    "#import libraries\n",
    "import pandas as pd\n",
    "from sklearn.metrics.pairwise import cosine_similarity\n",
    "from sklearn.feature_extraction.text import CountVectorizer"
   ]
  },
  {
   "cell_type": "code",
   "execution_count": 2,
   "metadata": {},
   "outputs": [
    {
     "name": "stdout",
     "output_type": "stream",
     "text": [
      "------------------\n",
      "Data Head Preview:\n",
      "------------------\n"
     ]
    },
    {
     "data": {
      "text/html": [
       "<div>\n",
       "<style scoped>\n",
       "    .dataframe tbody tr th:only-of-type {\n",
       "        vertical-align: middle;\n",
       "    }\n",
       "\n",
       "    .dataframe tbody tr th {\n",
       "        vertical-align: top;\n",
       "    }\n",
       "\n",
       "    .dataframe thead th {\n",
       "        text-align: right;\n",
       "    }\n",
       "</style>\n",
       "<table border=\"1\" class=\"dataframe\">\n",
       "  <thead>\n",
       "    <tr style=\"text-align: right;\">\n",
       "      <th></th>\n",
       "      <th>event_time</th>\n",
       "      <th>event_type</th>\n",
       "      <th>product_id</th>\n",
       "      <th>category_id</th>\n",
       "      <th>category_code</th>\n",
       "      <th>brand</th>\n",
       "      <th>price</th>\n",
       "      <th>user_id</th>\n",
       "      <th>user_session</th>\n",
       "    </tr>\n",
       "  </thead>\n",
       "  <tbody>\n",
       "    <tr>\n",
       "      <th>0</th>\n",
       "      <td>2019-10-01 00:00:00 UTC</td>\n",
       "      <td>view</td>\n",
       "      <td>44600062</td>\n",
       "      <td>2103807459595387724</td>\n",
       "      <td>NaN</td>\n",
       "      <td>shiseido</td>\n",
       "      <td>35.79</td>\n",
       "      <td>541312140</td>\n",
       "      <td>72d76fde-8bb3-4e00-8c23-a032dfed738c</td>\n",
       "    </tr>\n",
       "    <tr>\n",
       "      <th>1</th>\n",
       "      <td>2019-10-01 00:00:00 UTC</td>\n",
       "      <td>view</td>\n",
       "      <td>3900821</td>\n",
       "      <td>2053013552326770905</td>\n",
       "      <td>appliances.environment.water_heater</td>\n",
       "      <td>aqua</td>\n",
       "      <td>33.20</td>\n",
       "      <td>554748717</td>\n",
       "      <td>9333dfbd-b87a-4708-9857-6336556b0fcc</td>\n",
       "    </tr>\n",
       "    <tr>\n",
       "      <th>2</th>\n",
       "      <td>2019-10-01 00:00:01 UTC</td>\n",
       "      <td>view</td>\n",
       "      <td>17200506</td>\n",
       "      <td>2053013559792632471</td>\n",
       "      <td>furniture.living_room.sofa</td>\n",
       "      <td>NaN</td>\n",
       "      <td>543.10</td>\n",
       "      <td>519107250</td>\n",
       "      <td>566511c2-e2e3-422b-b695-cf8e6e792ca8</td>\n",
       "    </tr>\n",
       "  </tbody>\n",
       "</table>\n",
       "</div>"
      ],
      "text/plain": [
       "                event_time event_type  product_id          category_id  \\\n",
       "0  2019-10-01 00:00:00 UTC       view    44600062  2103807459595387724   \n",
       "1  2019-10-01 00:00:00 UTC       view     3900821  2053013552326770905   \n",
       "2  2019-10-01 00:00:01 UTC       view    17200506  2053013559792632471   \n",
       "\n",
       "                         category_code     brand   price    user_id  \\\n",
       "0                                  NaN  shiseido   35.79  541312140   \n",
       "1  appliances.environment.water_heater      aqua   33.20  554748717   \n",
       "2           furniture.living_room.sofa       NaN  543.10  519107250   \n",
       "\n",
       "                           user_session  \n",
       "0  72d76fde-8bb3-4e00-8c23-a032dfed738c  \n",
       "1  9333dfbd-b87a-4708-9857-6336556b0fcc  \n",
       "2  566511c2-e2e3-422b-b695-cf8e6e792ca8  "
      ]
     },
     "execution_count": 2,
     "metadata": {},
     "output_type": "execute_result"
    }
   ],
   "source": [
    "#load Data\n",
    "df = pd.read_csv(\"2019-Oct.csv\")\n",
    "print('------------------')\n",
    "print('Data Head Preview:')\n",
    "print('------------------')\n",
    "df.head(3)"
   ]
  },
  {
   "cell_type": "code",
   "execution_count": 3,
   "metadata": {},
   "outputs": [
    {
     "name": "stdout",
     "output_type": "stream",
     "text": [
      "----------------\n",
      "Data Information\n",
      "----------------\n",
      "<class 'pandas.core.frame.DataFrame'>\n",
      "RangeIndex: 42448764 entries, 0 to 42448763\n",
      "Data columns (total 9 columns):\n",
      " #   Column         Dtype  \n",
      "---  ------         -----  \n",
      " 0   event_time     object \n",
      " 1   event_type     object \n",
      " 2   product_id     int64  \n",
      " 3   category_id    int64  \n",
      " 4   category_code  object \n",
      " 5   brand          object \n",
      " 6   price          float64\n",
      " 7   user_id        int64  \n",
      " 8   user_session   object \n",
      "dtypes: float64(1), int64(3), object(5)\n",
      "memory usage: 2.8+ GB\n"
     ]
    }
   ],
   "source": [
    "#data review\n",
    "print('----------------')\n",
    "print('Data Information')\n",
    "print('----------------')\n",
    "df.info()"
   ]
  },
  {
   "cell_type": "markdown",
   "metadata": {},
   "source": [
    "#### 2. CLEANING DATA"
   ]
  },
  {
   "cell_type": "code",
   "execution_count": 4,
   "metadata": {},
   "outputs": [
    {
     "name": "stdout",
     "output_type": "stream",
     "text": [
      "--------------------------\n",
      "Percentage of Missing Data\n",
      "--------------------------\n"
     ]
    },
    {
     "data": {
      "text/plain": [
       "event_time        0.000000\n",
       "event_type        0.000000\n",
       "product_id        0.000000\n",
       "category_id       0.000000\n",
       "category_code    31.839818\n",
       "brand            14.410502\n",
       "price             0.000000\n",
       "user_id           0.000000\n",
       "user_session      0.000005\n",
       "dtype: float64"
      ]
     },
     "execution_count": 4,
     "metadata": {},
     "output_type": "execute_result"
    }
   ],
   "source": [
    "print('--------------------------')\n",
    "print('Percentage of Missing Data')\n",
    "print('--------------------------')\n",
    "100 * df.isnull().sum() / len(df)"
   ]
  },
  {
   "cell_type": "code",
   "execution_count": 5,
   "metadata": {},
   "outputs": [
    {
     "name": "stdout",
     "output_type": "stream",
     "text": [
      "---------------------------------------------------------------\n",
      "Rows with missing data in user_session was removed successfully\n",
      "---------------------------------------------------------------\n"
     ]
    }
   ],
   "source": [
    "#percentage of missing value for 'user session' is less than 1%\n",
    "#drop row where 'user_session' is missing data \n",
    "df = df.dropna(axis=0,subset='user_session')\n",
    "print('---------------------------------------------------------------')\n",
    "print('Rows with missing data in user_session was removed successfully')\n",
    "print('---------------------------------------------------------------')"
   ]
  },
  {
   "cell_type": "code",
   "execution_count": 6,
   "metadata": {},
   "outputs": [
    {
     "name": "stdout",
     "output_type": "stream",
     "text": [
      "------------------------------------------------------------\n",
      "category_id numbers with category_code information not found\n",
      "------------------------------------------------------------\n"
     ]
    }
   ],
   "source": [
    "#to fill in the missing data in the 'category_code' column, the number in the 'category_id' column will be for reference.\n",
    "#for each 'category_id' that is missing a 'category_code', we look up the 'category_id' with 'category_code' information in the same table.\n",
    "\n",
    "#list of 'category_id' numbers with missing value in 'category_code'\n",
    "catid_catcode_null = df[df['category_code'].isnull()]['category_id'].unique()\n",
    "#list of 'category_id' numbers with value in 'category_code'\n",
    "catid_catcode_notnull = df[df['category_code'].notnull()]['category_id'].unique()\n",
    "\n",
    "#find 'category_id' numbers with 'category_code' information into the missing value 'category_code' list\n",
    "catid_list = []\n",
    "for catid in catid_catcode_notnull:\n",
    "    if catid in catid_catcode_null:\n",
    "        catid_list.append(catid)\n",
    "if len(catid_list) > 0:\n",
    "    print(catid_list)\n",
    "    print('---------------------------------------------------------')\n",
    "    print('category_id numbers with category_code information found!')\n",
    "    print('---------------------------------------------------------')\n",
    "else:\n",
    "    print('------------------------------------------------------------')\n",
    "    print('category_id numbers with category_code information not found')\n",
    "    print('------------------------------------------------------------')"
   ]
  },
  {
   "cell_type": "code",
   "execution_count": 7,
   "metadata": {},
   "outputs": [
    {
     "name": "stdout",
     "output_type": "stream",
     "text": [
      "----------------------------------------------------------------\n",
      "Rows with missing data in category_code was removed successfully\n",
      "----------------------------------------------------------------\n"
     ]
    }
   ],
   "source": [
    "#No 'category_id' numbers found with information in 'category_code', to fill in missing data in 'category_code' column\n",
    "#drop row where 'category_code' is missing data \n",
    "df = df.dropna(axis=0,subset='category_code')\n",
    "print('----------------------------------------------------------------')\n",
    "print('Rows with missing data in category_code was removed successfully')\n",
    "print('----------------------------------------------------------------')"
   ]
  },
  {
   "cell_type": "code",
   "execution_count": 8,
   "metadata": {},
   "outputs": [
    {
     "name": "stdout",
     "output_type": "stream",
     "text": [
      "[10200661, 53900008, 45601342, 16900229, 35200100, 35200054, 35200214, 35200400, 35200006, 6601031, 49800027, 5701375, 35200094, 49800021, 1003912, 49800025, 1003208, 3000140, 1307139, 4502653, 49800020, 1003209, 49800022, 49800023, 1307141, 30900189, 51000020, 4502658, 35200196, 35200213, 35200095, 35200096, 5701201, 4502656, 1307335, 2402969, 5701350, 1005178, 6200399, 1307437, 3601583, 2702611, 51000019, 3701087, 1005146, 2702610, 6200888, 6200677, 21411451, 4501738, 51000002, 35200194, 12202735, 2402999, 35700018, 35700019, 35200198, 1802051, 2402997, 2402998, 1004786, 4502660, 2402995, 11600326, 43200018, 2800448, 6201159, 4804572, 5100865, 1005187, 1005175, 6201160, 29502741, 6400370, 53900010, 4501894, 2800042, 5100864, 2800041, 4804574, 2800172, 6500897, 4501892, 2402993, 11700167, 14100591, 6400369, 12202777, 35102453, 12202779, 3100911, 45601351, 53900016, 6601049, 3701513, 1307439, 12202780, 21411448, 1701524, 6700910, 1802053, 2702615, 43200003, 11600350, 1802052, 43200007, 3601585, 3601584, 3601586, 2402996, 12202778, 5700910, 43200001, 43200005, 27600464, 2800658, 11600352, 4502665, 2702612, 53900011, 43200004, 12202775, 45601401, 5100862, 5100863, 5100861, 5100860, 2900957, 8700594, 43200006, 2900958, 6601051, 53900014, 17800717, 17800718, 35700020, 32200049, 5800415, 32200047, 43200074, 43200002, 43200008, 32200048, 43200000, 7004883, 2702628, 1480749, 9002938, 23700168, 21400121, 1480743, 6400371, 2702623, 1480745, 1480746, 1480741, 17800719, 1802043, 1480742, 1480740, 23700146, 5100867, 50600073, 2702627, 2702631, 5100866, 1005189, 30000230, 1005188, 25001609, 5100868, 19200223, 1201426, 1480747, 6601076, 23700169, 1307441, 23700147, 53900019, 25001611, 22400212, 3601587, 28401194, 28401202, 21411469, 6601075, 45601443, 9002935, 25001622, 25100329, 1201521, 50600070, 13201248, 32200051, 1480697, 5700503, 3601589, 3900733, 45601497, 9000852, 9002254, 1701395, 21800298, 45601503, 28708270, 25100334, 6801351, 14701559, 3700966, 45601442, 28401184, 3200302, 25001596, 18301018, 25100330, 28401190, 3601588, 6601072, 3601591, 28401195, 3601592, 2702587, 45601507, 21800299, 28720303, 2800636, 1307443, 1307444, 3801310, 3900353, 6902752, 6901362, 3601354, 17200913, 1500481, 6701246, 3800161, 12400512, 50600068, 6801366, 25001624, 28720330, 9200716, 3901090, 4501262, 19100400, 21411541, 3801311, 2702553, 2500637, 21411577, 1307445, 45601506, 10900395, 3600884, 6900519, 5000325, 43200099, 43200098, 1307446, 2701528, 43200103, 2502101, 6902988, 2402785, 45300081, 4400554, 9002949, 3901093, 1480752, 28401238, 28401239, 6900213, 6902095, 6900405, 7900017, 8400090, 6501099, 21411480, 43200102, 43200101, 4501816, 28716034, 7900586, 28401232, 28720205, 21411510, 6701018, 4400587, 7900008, 28720313, 6902105, 7006413, 28401247, 8400196, 35108477, 1701544, 45601526, 28401248, 1701532, 7901084, 23700172, 8400245, 6201167, 6903001, 1701526, 8400244, 7001410, 45601534, 7006435, 5100869, 6201171, 1701536, 23700205, 21411497, 45601539, 28401250, 28401192, 28401231, 43200104, 12202776, 3000123, 52900130, 52900124, 7006416, 28401234, 52900126, 52900123, 6400372, 28720252, 12400508, 28720070, 6201178, 44400174, 52900127, 52900129, 7900006, 7006431, 9002388, 21404569, 35103203, 1600631, 21411513, 1005179, 1005173, 1005186, 1005185, 8801032, 43300139, 1801800, 6201174, 43300134, 2401188, 28720348, 2502206, 28720344, 1701107, 43300129, 28716033, 28720349, 45601536, 7002969, 43300137, 28720305, 28401246, 6902984, 6902998, 45601555, 43300133, 1600636, 45601538, 43300132, 1600638, 28720351, 43300127, 28720345, 1600634, 28720352, 45601550, 45601500, 43300128, 45300091, 1701546, 6201177, 7000684, 6500867, 6901499, 18300547, 21404288, 1005191, 35101442, 16200476, 6601079, 18500080, 28401245, 26900069, 45300090, 4804581, 35108931, 1005190, 19200207, 18200082, 45601569, 12400516, 9000178, 10400742, 6200288, 10400047, 17200912, 1005196, 1005192, 1307449, 5100870, 1005193, 7005118, 1005195, 39900049, 39900052, 1005199, 12301543, 9002964, 9002965, 12301570, 12100308, 3601596, 28710794, 12100837, 1701535, 7006370, 50600079, 28707876, 39900046, 28719119, 1307448, 6701217, 7001182, 28718419, 28401251, 18200081, 2402212, 28719771, 8801090, 2800660, 12100840, 16700960, 7002988, 45601111, 28708499, 28719763, 1700845, 28719339, 52900131, 28719779, 28719780, 6501104, 50600078, 45601204, 2300320, 3901171, 28719670, 6901222, 2702635, 12301329, 21800302, 22400228, 28720291, 28719753, 28719769, 45601452, 28719761, 2401008, 6200361, 28720450, 28720453, 30901172, 45601537, 28719694, 28720452, 7006364, 28719693, 45601108, 28719332, 47500046, 14701515, 28719387, 1005194, 28719731, 28701859, 1701531, 28719772, 13500361, 28719347, 28719749, 45601201, 3901170, 28719833, 35101429, 28719852, 45601135, 45601171, 28719840, 28704459, 28719784, 6400378, 28719747, 21800304, 28719836, 28719679, 28719705, 28719808, 28719340, 28720341, 45601104, 28719856, 47500041, 6903007, 45601456, 35108151, 28719325, 28719333, 45601445, 28719344, 7001418, 1005208, 1005207, 1005209, 1005205, 1005211, 1005182, 21407109, 1480239, 4804592, 1005203, 13600518, 6400379, 1802077, 1005201, 1005212, 1307454, 1005197, 3600237, 1802074, 1500485, 29100081, 1005183, 28720362, 1701495, 1802057, 1201393, 1500484, 8901402, 28720386, 3701528, 28720431, 28720371, 14701827, 5701315, 5701368, 5701262, 7005435, 5701369, 1307451, 3801394, 19200013, 1500219, 1802070, 21406785, 1005213, 2800661, 39900050, 28720359, 1802075, 5701355, 5100487, 1802066, 9200451, 1005206, 5701336, 1802065, 23700230, 1802073, 18200084, 18200044, 45601615, 6501115, 1005198, 28720435, 2702638, 21407412, 21407430, 1701554, 1802063, 21406682, 1005210, 1005202, 28720388, 3701534, 1802071, 1802072, 28720439, 12400431, 28720387, 1480757, 1480756, 28720418, 28720440, 21407209, 12300162, 3701524, 1802067, 1802076, 1005214, 5701370, 10400026, 5701326, 52900128, 28720389, 28720361, 28720375, 45601450, 28707062, 2700438, 29100071, 28720415, 4802586, 14701178, 1802058, 21406784, 1201423, 1480759, 45601623, 6801269, 39900048, 28720357, 8801091, 28720424, 28718774, 28720432, 5701284, 1701552, 21406876, 6701252, 28720426, 1480724, 1802056, 39900051, 18300031, 28720436, 2702636, 1802061, 2300138, 21407423, 21408231, 5000620, 9700038, 28719750, 28720434, 23700251, 9200450, 23700261, 23700257, 5100873, 28720430, 4804595, 5100364, 45601612, 45601621, 43300138, 28720416, 13200440, 28720413, 56600004, 1307453, 5200152, 1701553, 12301538, 1802069, 1307450, 12301571, 17800729, 17800728, 28719811, 1480758, 21406674, 1802068, 1802059, 45300092, 21406751, 23700263, 21407223, 21406710, 6801386, 28720429, 5701356, 4804588, 1802064, 23700267, 1306393, 2300292, 2300287, 4802867, 3701532, 21406815, 1307156, 28720414, 6601084, 5701328, 2300290, 9101032, 1201400, 5100872, 28719776, 45601620, 5000794, 28707182, 45601600, 28710439, 3801393, 3701531, 28720420, 4800337, 28720412, 5701331, 20500604, 5701311, 2800659, 28720437, 28720433, 28720374, 5701351, 5701338, 2900275, 45601614, 1701547, 28720442, 14701646, 28720441, 10400438, 18200017, 4600690, 5701332, 21406803, 5701282, 18300054, 28720380, 28720427, 7004321, 1201508, 1600287, 21406863, 23700229, 19100406, 28720421, 21406777, 3701530, 9200340, 1005216, 1307456, 11100145, 52900139, 7006453, 1005217, 1303049, 12200348, 8700610, 5801111, 11700423, 3601603, 1802080, 5100875, 1005215, 36000093, 28720288, 1802078, 1802079, 2501714, 3200542, 1701551, 9200314, 17800338, 3701539, 28720488, 4501361, 5100876, 43800011, 11100149, 5800741, 29100070, 43800008, 45500016, 11100159, 12202878, 52900135, 7006454, 5100874, 4502681, 4502690, 3701543, 6601090, 6501116, 51600004, 4500587, 3200457, 43800012, 51600003, 3200568, 52900142, 3700462, 6903011, 52900143, 18500081, 52900147, 5701335, 3601604, 7002978, 13600512, 28720358, 4400387, 43800010, 45601611, 12202876, 5701300, 1307455, 51600005, 19300122, 1201525, 45601629, 9100894, 3701523, 52900155, 28401275, 6400212, 30000236, 3701454, 28401274, 51600009, 28718769, 4804599, 29100065, 4501999, 28720485, 2240121, 4502680, 43800009, 1480366, 28720513, 6601089, 45601628, 52900157, 3601605, 18300003, 5701333, 28718463, 12202877, 4900379, 28712415, 2900966, 44000000, 5701323, 2702642, 52900151, 28720518, 6701255, 36000092, 28401270, 6302293, 4502689, 3701083, 7005594, 3700573, 52900146, 52900138, 52900140, 52900144, 52900136, 52900141, 5100840, 28720487, 4900427, 3700562, 1002266, 4804603, 8902633, 6200974, 10400216, 3701456, 6300292, 6302296, 28720438, 28720372, 3601218, 1002460, 9100193, 4501780, 5701377, 6701257, 52900134, 45601618, 10900398, 1003435, 1004885, 1002497, 1002923, 28720489, 1003735, 1002415, 1003865, 1003951, 1003673, 1003129, 5701348, 45601155, 1002724, 5701307, 1003250, 3701546, 52900150, 3801397, 1003755, 3200579, 45601675, 10900402, 2501527, 52900145, 28720461, 28720505, 11600365, 8902634, 9100390, 3701547, 4502682, 3800207, 1005180, 29100066, 3701542, 3701549, 28719371, 36000094, 11000277, 8801093, 53900018, 28713232, 50600081, 3101090, 45601631, 28714981, 53900026, 28720417, 14701357, 6301971, 9100778, 52900161, 45601168, 2702641, 11600243, 6301412, 1307457, 28718421, 12202872, 1003153, 19200024, 29100051, 28720191, 28720398, 4800553, 45601674, 28710304, 28401291, 1802060, 4400565, 52900137, 45601650, 4804267, 45601613, 28720471, 6000295, 4000101, 1005177, 4900404, 1005184, 4600626, 1307459, 22600075, 28300384, 14500083, 4600697, 4804607, 1307458, 3701557, 29100029, 3200068, 5701291, 17800733, 4804606, 10900239, 28705496, 5801707, 3601608, 1701559, 7900481, 28720519, 28706792, 4400264, 28500038, 3701521, 17800732, 51600010, 4600607, 6200162, 3100253, 55000010, 55000005, 55000008, 55000007, 55000014, 55000000, 55000011, 55000004, 28708832, 55000003, 4600606, 55000013, 55000006, 4804585, 28500037, 55000012, 55000009, 36000088, 28720612, 55000002, 28720627, 28720631, 28720636, 28720611, 28720610, 7901093, 28720515, 6701259, 52900158, 5701321, 1307460, 45601637, 28720638, 4502150, 28720635, 28720630, 12200346, 28720625, 45601682, 51000029, 45601655, 7900512, 6700709, 1307461, 3701550, 3701548, 1307462, 7900484, 5701334, 1480760, 28720615, 30000238, 21800306, 3200327, 32900144, 32900147, 32900149, 6902299, 28401292, 32900143, 5801713, 32900154, 5801711, 32900146, 32900151, 18500069, 21800305, 2502244, 28720623, 28707875, 45601605, 1307470, 28401105, 1307473, 28720618, 4600696, 1307475, 1307471, 4600426, 6701260, 1307466, 1307474, 1307472, 12400350, 21411588, 5801708, 5801716, 1307465, 32900142, 5801712, 5801709, 1307469, 1802083, 1802084, 1307468, 1802086, 28720578, 32900159, 4502684, 45601721, 45601827, 45601817, 1307463, 28720577, 45601807, 3701555, 28720527, 45601717, 1307467, 28720531, 1802085, 3701556, 45601662, 28720568, 28720628, 45601731, 45601756, 28720538, 14701816, 17900076, 28720576, 1002796, 28720532, 45601806, 28720613, 1480762, 7005889, 7006412, 6201173, 45601828, 7006363, 10900399, 11000184, 30901175, 8801094, 28720536, 1005220, 6200973, 5700802, 6201203, 28720571, 30000239, 1005219, 45601787, 45601754, 1005218, 45601761, 28720502, 45601653, 45601667, 28720377, 9101483, 1480761, 28720637, 8801096, 43200036, 28720537, 28720621, 28720490, 4804587, 5801614, 5801714, 28720503, 9101143, 45601759, 6801374, 9002983, 2702591, 2403031, 28401298, 2501691, 20700509, 45601696, 6701253, 1005061, 1003864, 48200417, 1002876, 1307478, 5100878, 1005225, 44400156, 1005223, 5100813, 1003599, 3601612, 48200403, 1005229, 1201548, 21000082, 1005204, 21000083, 35200596, 48200430, 2702656, 2402951, 1003507, 17800734, 1307480, 4804620, 1005228, 14701004, 48200435, 4600711, 2702663, 2702665, 5100805, 1600401, 1003993, 12301584, 12301582, 1307477, 4600699, 4600709, 53900034, 20500548, 28720711, 1005226, 20500557, 20500550, 2702649, 2702648, 3701568, 1307206, 19200227, 28401333, 3701570, 3701560, 3701561, 45601740, 3701564, 3701562, 3601620, 48200398, 25800025, 4600698, 2702661, 12301579, 4802830, 12301578, 1307479, 28401331, 6200945, 4501556, 8800562, 8801036, 12301580, 2900980, 21409850, 3701559, 48200396, 14701058, 3701566, 17900190, 48200405, 4804618, 45601836, 48200402, 8800573, 8800575, 8800264, 48200434, 4804623, 48200428, 48200401, 7006432, 1005222, 8902608, 3700800, 4900428, 45601833, 20500573, 28401314, 10201795, 4600702, 48200410, 17900160, 48200400, 48200393, 48200394, 48200391, 2702659, 2702655, 28720561, 2702653, 6701125, 10201808, 7101986, 2702650, 2402228, 5801718, 1600620, 5100809, 1801638, 1500260, 10400761, 48200418, 4804612, 45601784, 21409874, 45601881, 10201796, 35200595, 35200597, 16800569, 1480763, 43200075, 3701563, 1003456, 21411280, 6201195, 28401313, 3701158, 3701569, 8800745, 19100416, 30901173, 4804624, 5100808, 4600708, 1005236, 1005232, 4000088, 21409849, 21409872, 2702667, 1802096, 1005233, 21409873, 21409875, 21409871, 1005234, 21409848, 4802892, 21411289, 1005231, 48200390, 21411286, 48200395, 56300041, 5100810, 1306535, 2702662, 1005221, 1005230, 1802087, 4804496, 4700727, 19100417, 3701558, 14700323, 20500556, 1005227, 1307481, 3701577, 3701576, 48200415, 28720688, 56300021, 55700008, 3601618, 3701574, 1201537, 28720717, 55700015, 2702664, 11300135, 56300024, 12301581, 4502718, 5100812, 1307486, 13201284, 48200409, 3701571, 6200710, 10201793, 3601619, 8800525, 8801037, 28401315, 1201549, 48200389, 14700985, 28401330, 48200414, 48200397, 50600082, 7102052, 28720720, 28720725, 1307482, 14700555, 1004311, 35108972, 1201534, 4802679, 1201557, 5100806, 28401322, 4804569, 6201216, 21409863, 21409862, 3701572, 21409864, 45601849, 56300006, 21409847, 19100091, 48200440, 3701567, 55700035, 21409869, 21411282, 21411285, 28720660, 56300013, 10201799, 10201797, 10201800, 10201794, 28401332, 21411283, 21411284, 21409868, 56300040, 5100804, 14700987, 21411279, 11700432, 8800682, 21411281, 8800395, 28401317, 28401321, 28401325, 28401329, 1005239, 1005238, 45601900, 45601902, 1005235, 48200438, 1005237, 13200964, 1802089, 35108971, 42300077, 1307488, 1307490, 6501117, 3901175, 14701866, 3701581, 1307492, 16800571, 1307491, 13200962, 6701241, 1802095, 45300100, 2402978, 6201271, 1802091, 35108977, 35108982, 3701578, 21409870, 8902636, 18500066, 12100847, 1802090, 4804611, 8800218, 11700433, 1802094, 28720745, 6902699, 21411288, 16800572, 28720743, 56300032, 28720658, 12100859, 28712624, 1307489, 48200392, 28720730, 28401319, 28401334, 28704481, 35108981, 45601688, 35108976, 5100807, 4502714, 48200423, 48200439, 20500533, 28401328, 8800520, 28720721, 8800746, 48200426, 48200416, 3800596, 28720741, 55700019, 10201777, 55700068, 28720729, 8800282, 10400550, 8902630, 45601899, 8800849, 48200408, 55700049, 10400757, 5600107, 45601869, 4804570, 6900208, 19100415, 28720724, 45300084, 28720653, 2900979, 45601901, 45601903, 28401318, 8902631, 28401335, 11700443, 35108978, 19100414, 30900100, 6700974, 20300075, 35108975, 1005029, 11700434, 1201535, 10400760, 28401323, 28401324, 48200422, 11700431, 48200425, 8800697, 13600297, 28401326, 45601864, 21409865, 3801399, 4500789, 17200301, 45300095, 5100803, 8800814, 45601648, 20500516, 47200127, 45601878, 5100811, 6600850, 35108970, 47200126, 1802098, 6201251, 1802097, 2900983, 2900981, 5100814, 1801613, 2403043, 1307496, 13201293, 4600706, 45601824, 4804619, 14701534, 4804625, 8800190, 48200424, 28401327, 8902618, 4600705, 1201558, 4600594, 11000030, 28721082, 28721132, 1802110, 5100882, 1802106, 55700011, 5100881, 14701198, 1802101, 1802108, 1802112, 5100883, 1802103, 1304816, 47200128, 5701385, 1802111, 1802100, 2502251, 1802105, 7101985, 5100884, 8800252, 1802109, 28721301, 28720740, 12301583, 2502252, 1306356, 28721277, 27701237, 5100880, 3901176, 28721260, 4502728, 48200419, 1304909, 28721298, 2900978, 28721261, 28721286, 28721318, 18301034, 28721060, 18300161, 28721256, 5100359, 3901180, 4600704, 47500007, 7004741, 28720686, 45602016, 13600295, 28721182, 6700808, 3901186, 5100879, 4502730, 28721093, 21411287, 6600638, 19100420, 28401320, 28721059, 1304866, 28721302, 48200427, 5701383, 3901183, 6201207, 28721251, 1480500, 8902644, 55700069, 17900049, 48200407, 3801404, 16800568, 1480764, 48200437, 27701215, 35108936, 16200195, 1801264, 3801405, 47200134, 4000174, 3701579, 22900289, 1801281, 1801327, 1800002, 14701314, 3901187, 1801293, 4801103, 6601097, 2502259, 1801275, 12100874, 2502264, 28720696, 6302300, 1801003, 1801320, 14701889, 45602051, 47200133, 2502267, 4502735, 4502747, 4502733, 4502739, 16900241, 1004851, 4502741, 1307497, 4502743, 16900242, 14701888, 3701538, 14701886, 14701887, 1801842, 28721439, 45602052, 28721253, 1801273, 7005364, 1801396, 1307499, 28721106, 1005241, 6301411, 28704455, 4502732, 1005243, 1005244, 8801100, 3601632, 55700094, 1800925, 4600718, 1005242, 47200131, 1801369, 4502746, 4502745, 28721299, 1801701, 48200406, 4804614, 4502751, 4502748, 28721250, 52800010, 2501243, 11700442, 55700105, 2502266, 2502265, 28721159, 45601210, 16800583, 3601631, 1005250, 2502269, 16800580, 1005248, 1801532, 6500123, 16800582, 16800575, 4502755, 2900918, 1005247, 45601646, 2800670, 1801622, 28721443, 16200331, 44400203, 3901188, 4201564, 3800930, 13600299, 3101093, 4201562, 14701904, 35200611, 4804648, 44400200, 14701903, 16800584, 14701902, 28721131, 47200139, 1802113, 4600716, 4502744, 1801519, 18900167, 17000123, 7901103, 7901105, 35200628, 3801406, 55700009, 3101094, 1307501, 21408782, 28300754, 6301935, 44400209, 28721407, 16200193, 3901196, 4201563, 4804645, 12100875, 4600346, 38000013, 28721450, 28721457, 3601051, 44400159, 18300855, 13201303, 45602054, 6201309, 45602027, 4502734, 5100341, 28721461, 28721451, 3200587, 28721452, 27701216, 28721460, 14701905, 44400153, 35108980, 28721449, 28721456, 28721458, 28721455, 51000030, 28721462, 51000027, 4502740, 28300063, 28721179, 28721453, 14701891, 28721459, 48200442, 48200444, 48200445, 48200443, 16800067, 1005251, 28721178, 22600078, 4500507, 14701918, 14701917, 4502772, 14701921, 13500433, 11100344, 2502258, 47200142, 9101048, 28721454, 4502712, 7901108, 14701911, 16200177, 12100869, 19300125, 4502758, 6302021, 21409788, 27701217, 55700110, 1802115, 18301049, 13800572, 2502268, 4502774, 4502773, 6302302, 18900045, 28721445, 1307513, 38000016, 1005256, 2900991, 28720876, 1005253, 28721007, 28720978, 28720997, 28720792, 3701586, 28721033, 1005252, 28720974, 28720853, 28720763, 13201305, 1005246, 28720761, 28720857, 5000824, 1005255, 35700025, 28712393, 1307505, 2800674, 13201313, 28720860, 14700204, 1307502, 28720987, 13201311, 2800673, 38000018, 26900073, 1307514, 6800498, 1005257, 13201309, 8902692, 5100897, 28721048, 14701446, 28720885, 1307504, 1201516, 1307515, 10201322, 1307512, 28720929, 3901200, 28721038, 28720916, 28721705, 28721023, 28720843, 28720980, 1201561, 28720988, 28720774, 28720979, 28720874, 1701563, 28721141, 28721704, 1005245, 13201304, 9002409, 2702092, 28720769, 4900434, 28720841, 28720989, 28720965, 28721008, 28721006, 28720976, 28720848, 28720767, 28720805, 28720947, 28720977, 28721005, 28721707, 1480765, 28720772, 28715235, 5100896, 7006506, 28720794, 1307510, 28721706, 4502766, 28720786, 18301050, 4502764, 5100899, 5100898, 28721046, 28721708, 28721028, 28720804, 28720937, 28721040, 28720954, 28717595, 28720985, 28720787, 38000015, 11700447, 28720808, 28720845, 28720859, 32200052, 1307508, 9200499, 28721000, 28720950, 28720748, 28720986, 28720770, 28720879, 1307507, 28720856, 7901109, 4900433, 2300324, 28704135, 28720875, 28720766, 28720952, 3801411, 28720867, 18301051, 28720838, 28720949, 28720932, 28720931, 28720869, 28721037, 1201562, 28721045, 28721039, 28720819, 28720854, 2403051, 28720998, 8800383, 28721029, 28720899, 28720803, 10201844, 2300325, 28720990, 28720802, 28720842, 21411625, 28720933, 28721003, 2300323, 28720820, 28720999, 28721022, 28720948, 28720901, 47200151, 28720883, 28720771, 28720996, 6701266, 28720847, 28720851, 28720914, 1802116, 28704142, 28720844, 28720930, 28720862, 28721004, 28720849, 28721717, 28720921, 7901111, 28720913, 12202926, 1201563, 18301052, 38000021, 1701564, 21411626, 7006500, 28720880, 38000020, 14100645, 7102062, 28721043, 28721032, 28720995, 28720846, 28720991, 6601061, 28721716, 28720747, 47200143, 8902666, 28720773, 3801375, 18301069, 28720969, 47200144, 47200150, 14701922, 28721001, 28720992, 28720768, 47200149, 5000820, 47200158, 28720956, 28720964, 28720958, 8800243, 28720972, 28720975, 3901194, 12202927, 28720900, 4502736, 14100646, 2300326, 28720884, 28720935, 2300321, 2900089, 28720765, 28720955, 28720973, 1005259, 1005258, 1005260, 5100895, 28720818, 28720917, 28721049, 13800493, 21800308, 28720821, 47200167, 28720878, 28720855, 47200146, 5000823, 7102061, 28720905, 3601633, 28721024, 28721030, 28721036, 4201577, 28720971, 28720866, 8801102, 28720877, 28721027, 28721034, 21411624, 6903016, 7000683, 28720966, 28721047, 28720936, 28720890, 8801001, 28720934, 21411631, 28720918, 28720870, 28720994, 47200179, 10201843, 1307506, 18301054, 10400676, 7006498, 28720840, 28720793, 28720852, 28720863, 18900000, 28720789, 47200162, 11700454, 28720858, 18301071, 47200163, 4804660, 8902753, 13800429, 28720861, 7006514, 21410743, 21410741, 1000978, 21410740, 21410742, 1802124, 21410735, 1005254, 21410737, 27701230, 1005261, 12100942, 21410726, 21410727, 21410746, 1802125, 1802122, 28720902, 21410722, 21410738, 21410728, 21410745, 13800623, 1802126, 1802123, 28721401, 52900172, 1005174, 1307517, 50600083, 35700032, 1005181, 52900184, 1802127, 21410736, 4502771, 21410730, 28720795, 28720963, 4804638, 52900185, 4502780, 1480770, 1480768, 1307520, 28720788, 28720806, 11700445, 21410723, 52900177, 52900178, 21410744, 1802119, 4502783, 53900027, 53900025, 21410732, 52900166, 28720920, 28401342, 1307527, 12301593, 53900037, 47200190, 53900039, 1307529, 1307526, 21410729, 1307525, 2702207, 16700826, 1005262, 1307523, 1307522, 1802121, 1802118, 1307521, 22600081, 2900561, 47200166, 13600510, 1802129, 1307528, 1480767, 3801386, 53900038, 13800642, 3701592, 41900007, 41900008, 22400250, 1802120, 22600065, 3701588, 4502670, 12301596, 11600459, 21410731, 1802130, 53900036, 3200373, 1005263, 1201567, 48200462, 8801106, 48200457, 8801105, 1201566, 28721259, 48200455, 48200447, 18200086, 47200206, 19300126, 17200958, 19300127, 28721258, 1201572, 53900021, 48200454, 13901498, 1307524, 22600051, 47200209, 47200210, 28720891, 28720850, 22600079, 48200460, 47200199, 16700841, 48200453, 48200449, 48200464, 28720796, 47200213, 20700232, 2702557, 21411652, 4502784, 28718039, 22600057, 28718473, 1201565, 28718033, 13800637, 28718477, 1201576, 3800845, 6201316, 1201569, 6201318, 48200452, 28718043, 30000246, 44000006, 51000031, 51000032, 4501261, 20200303, 16700975, 16700813, 13201002, 4502514, 35200632, 25001650, 47200227, 28401343, 4700719, 28401345, 1307509, 48200459, 6700667, 6801392, 28718034, 43300095, 13903418, 1307534, 28721551, 43300107, 35700022, 43300075, 28721535, 8700354, 43300077, 43300091, 12301605, 35700023, 35108986, 28721287, 14700956, 43300100, 12100978, 12202847, 13901508, 43300122, 25001648, 21411713, 21411707, 1307535, 43300097, 28721611, 28721578, 43300096, 42800015, 42800016, 1201575, 22600095, 6201323, 16700819, 28721291, 43300084, 28721514, 28721483, 28721515, 14701932, 16700971, 28721723, 35108985, 3200589, 35108983, 14701660, 47200228, 43300110, 21411679, 12301599, 28721603, 2502275, 8902761, 20700516, 43300118, 6801398, 14700990, 7002929, 6601102, 43300125, 28720758, 43300113, 6301736, 28720968, 2502253, 43300079, 21411653, 4900430, 18900454, 6201327, 13201025, 43300101, 6600971, 43300108, 43300090, 51000000, 9101668, 45602050, 16700842, 45601837, 14701315, 14701648, 47200225, 17200962, 17200971, 60500001, 45602109, 48200446, 16800587, 14701227, 14701959, 1307543, 1307541, 4700733, 5800866, 1307539, 21410751, 60500002, 1201577, 29800248, 13201325, 48200470, 13201327, 13201334, 43300172, 30000255, 6801407, 43300155, 48100007, 16800588, 6201340, 1480771, 6201373, 3701594, 43200110, 13201333, 28401354, 1307544, 1004218, 13200402, 29800247, 13201329, 21411819, 48200468, 45602115, 16800223, 30000254, 2502098, 5801146, 7901101, 2300331, 2300329, 1800579, 1307545, 43300182, 43300179, 6601104, 21411789, 6601103, 8801069, 43300201, 5100906, 1307547, 43200117, 43300191, 2702681, 43200118, 43200120, 43300176, 13201335, 51000034, 1307540, 13201012, 1307536, 16800592, 21411830, 13201332, 6300434, 1307538, 13201322, 28300811, 43200109, 4400598, 30000258, 17200973, 21411796, 6601105, 13201323, 17200966, 5100907, 1300742, 13201330, 4804686, 30000249, 16800595, 30000252, 8800729, 2502279, 53900045, 3101096, 28401305, 3200592, 6201362, 3701593, 48200465, 21410748, 21411788, 21411820, 21411805, 28401356, 8801109, 21411856, 45300109, 45602136, 7006521, 17800745, 1304776, 43300144, 9500152, 43300149, 21411746, 28721571, 5100908, 28401347, 21411761, 22900327, 30000259, 45602116, 8800495, 21411790, 2502282, 21411806, 21410747, 21411812, 28300826, 21411704, 21411822, 21411726, 28300845, 43300158, 21411720, 43300169, 28300843, 21411753, 21411695, 21406672, 21411728, 43200113, 43200111, 2300328, 21411716, 21411710, 28300232, 21411825, 28300054, 8800597, 28300836, 48200471, 21411657, 28401303, 28401304, 5800981, 43200116, 12301000, 43200121, 21411795, 45602038, 4201616, 14701957, 43300148, 21411834, 12301096, 43200112, 21411808, 8800494, 2702679, 21411792, 43300160, 28714767, 43200114, 43300207, 44400246, 21410750, 7006519, 7004961, 28401367, 28401369, 28401364, 7102068, 28300858, 22900309, 21411818, 21411823, 43300178, 45300111, 16700846, 21411821, 7006518, 21411844, 14701967, 28401366, 21411787, 28300805, 28300832, 28300821, 21406812, 28300827, 21411764, 21411798, 21411786, 21411804, 14701964, 48200469, 43300168, 43200119, 4804685, 48200466, 43300161, 30000256, 45602071, 29800249, 21411733, 4000196, 48100008, 21410752, 21411708, 44400252, 21411729, 21411810, 53900040, 48100011, 9200772, 43300150, 30000250, 28300807, 12202960, 13201321, 21411722, 1480470, 48100009, 48100014, 43300204, 28401352, 21411793, 11700135, 17800344, 9101612, 6201330, 6201333, 1800729, 1307537, 43300159, 1005176, 5100909, 10201856, 12202948, 10400773, 43200115, 28401371, 28401376, 28401351, 48100013, 4201621, 18301078, 10400778, 28712143, 30000248, 21411801, 43300142, 43300208, 21411814, 43300166, 43300192, 16700451, 25800031, 28401370, 12202959, 21411791, 51000038, 1600345, 28401348, 21411785, 21411774, 12202953, 12202956, 6801409, 8800493, 14701023, 21411842, 21411758, 4500568, 4600040, 28721721, 5801722, 11700467, 10201850, 28401372, 4201628, 4201603, 5801719, 21411803, 8800728, 21411772, 26900046, 51000035, 4700734, 8801072, 28300819, 51000039, 9002548, 43300203, 28712475, 28300830, 21411833, 28401355, 21411802, 28300055, 14701963, 6201344, 10201853, 45602067, 30000257, 6801399, 22600084, 43300197, 12600100, 22400236, 30000260, 6601107, 4201632, 5100905, 21411775, 21411809, 6201375, 51000033, 45300113, 14701367, 1307380, 21411777, 43300209, 26900040, 43300152, 53900044, 53900041, 53900022, 6201361, 21411813, 9700401, 43300200, 11700476, 7102069, 6801401, 28300844, 43300145, 28401358, 28401368, 48200467, 21411784, 21411770, 6201367, 6400383, 18301085, 18300971, 9200773, 21411778, 6801405, 26900051, 21411663, 12202945, 21411773, 3601628, 21411670, 14700507, 2502281, 25800030, 16800593, 43300141, 1305263, 27000024, 21411797, 43300167, 27000027, 28714773, 1701562, 1480773, 27000026, 4501712, 21411749, 16700476, 45602073, 30000251, 45602131, 6201342, 27000025, 28401302, 14701899, 30000261, 7006516, 1701337, 60500007, 28300853, 6701268, 21411715, 21411734, 21411706, 12301608, 18300608, 19100426, 28300856, 8902758, 21411766, 60500005, 28300834, 21411769, 28300849, 43300154, 12202963, 11200544, 8902751, 6201376, 28300812, 21411712, 43300187, 8902755, 16800334, 43300163, 43300156, 4502767, 20500633, 53900042, 1307552, 4200841, 13500436, 9101677, 28721573, 14701981, 21407035, 8902762, 21411838, 21411768, 43300190, 21411693, 6201366, 21411759, 29800250, 21411794, 1480775, 7006526, 45601861, 43300151, 14701980, 6201332, 21411738, 14701982, 19100425, 1480772, 43300188, 21411783, 43300165, 16900251, 10400151, 21411765, 18301080, 45601684, 43300195, 12202949, 21411776, 28721733, 22900311, 60500004, 30000247, 16900250, 1005266, 1005265, 1005264, 21411780, 1500486, 21411748, 6902103, 21411767, 14701979, 9700078, 28300823, 21411751, 44400218, 12202950, 12202958, 12202955, 12202946, 44400248, 44400245, 1307560, 28721767, 4600193, 16701019, 10201859, 28401386, 28401381, 28401383, 20500644, 28721757, 3601111, 28721784, 21411845, 28721777, 28401385, 28401388, 28721772, 21411752, 43300180, 6501127, 43300174, 7100816, 45602214, 6301494, 28401392, 43300143, 28721774, 20500618, 57300036, 57300037, 28721799, 30000267, 4804695, 1480776, 2702682, 6000160, 17200974, 2502276, 2502277, 6801403, 13500084, 28721815, 52800021, 5000825, 12301611, 3601629, 1801503, 13201315, 28721776, 55500000, 5100912, 17200956, 45602192, 28721768, 28721812, 7006533, 52300006, 1600391, 7006529, 55500001, 6201324, 42300085, 21411718, 55500003, 55500002, 6201346, 28721783, 13500448, 1005272, 6200759, 1005269, 1005271, 9002133, 5100911, 1005270, 59300002, 3601636, 12100826, 28401378, 45602173, 28721769, 21411888, 30000272, 2900993, 2800111, 5100914, 51000037, 52300007, 22600086, 6201343, 59600022, 59300001, 52300011, 14701563, 28716067, 26900082, 7101740, 11000267, 6200713, 53400094, 21411754, 26900083, 26900085, 8902698, 2403061, 59400001, 45602177, 1005273, 25800034, 3601600, 45602191, 10400770, 13201355, 3701596, 13201354, 54900029, 48200497, 2900992, 54900040, 13201358, 48200495, 4200235, 25800029, 3800262, 30000271, 30000269, 20500635, 13500446, 54900026, 30000273, 11100143, 13201365, 6301051, 6301797, 54900042, 54900032, 6201369, 21411762, 8902770, 28721817, 2402861, 54900037, 54900031, 3601031, 13201347, 59600032, 7006539, 7006544, 16701014, 45602138, 3601602, 54900034, 21409867, 20400519, 25001577, 7006525, 59600011, 48200516, 4900435, 29100090, 55700149, 48200500, 51700001, 44400258, 48200501, 48200502, 3601637, 11600279, 55000023, 55000024, 55000025, 48200511, 54900035, 54900043, 54900027, 56300001, 55000027, 5701403, 5701198, 13201368, 1005275, 54900041, 55700154, 3700283, 5100919, 55000028, 5100916, 16800606, 48200499, 2900925, 54900033, 5700125, 45300114, 48200510, 48200514, 12100991, 5701391, 12100992, 44400260, 55700151, 48200507, 48200515, 5701405, 13201356, 45602487, 17900345, 7006558, 3801398, 5801132, 55700152, 5700941, 6601109, 5701251, 28401406, 5100064, 55700155, 13201366, 48200509, 5800690, 55700150, 52300009, 56300000, 48200512, 21403033, 48200505, 5701397, 52300010, 45602466, 45602465, 45602468, 48200504, 29100089, 7006567, 12100990, 30000279, 6601115, 17200989, 48200513, 48200508, 22900323, 3601638, 30000282, 45602471, 2900926, 45602523, 2240007, 40900075, 54900036, 50600096, 4700738, 45602532, 25900030, 17200987, 26900084, 45602485, 45602546, 19100206, 13201349, 48100015, 28401410, 19100267, 28401403, 45602462, 12301610, 28401412, 45602474, 45602472, 45602458, 6201377, 53900047, 5700942, 29100091, 48200506, 2502287, 17800757, 1801427, 45602514, 4200857, 3101098, 5100920, 10400465, 9200774, 50600098, 56300074, 56300042, 45602500, 17900343, 56300066, 28500099, 56300005, 44400257, 56300073, 45602484, 30000289, 56300076, 7102076, 22400258, 54900030, 13201360, 54900028, 56300077, 3901108, 13201370, 10900404, 4700312, 10200838, 11700190, 1480781, 22400264, 3601641, 5801736, 48200503, 50600097, 2800182, 30000284, 45602516, 1701572, 6201392, 30901183, 45602545, 45602541, 14100483, 11700352, 4804702, 9900456, 6801410, 45602352, 45602530, 13903368, 52900200, 2500175, 27701269, 50600093, 30000288, 6000296, 6201394, 29502882, 11700191, 28400868, 22900307, 45602511, 29100027, 30000291, 28401424, 29100068, 50600092, 45602491, 14702026, 5701406, 5701408, 12301609, 45602517, 7006563, 16200170, 45602457, 1307555, 10201890, 10201892, 45602495, 45602486, 45602481, 17800755, 45300116, 17900346, 14702023, 30500025, 56300061, 45602488, 7006570, 5801737, 1002103, 45602492, 56300064, 45602473, 4200772, 56300043, 1307566, 19300128, 1004307, 56300069, 30000287, 45602531, 45602366, 5100917, 18301076, 4803880, 56300004, 45602496, 21411890, 1005277, 6601060, 45602538, 9001346, 28401404, 1400368, 13201371, 1307567, 2402706, 56300002, 53400097, 6601114, 45602535, 45602529, 27701268, 12300481, 26900095, 3801416, 1005278, 1005274, 4803570, 17800758, 29100082, 45602543, 3701595, 45602490, 22900313, 39700138, 1480784, 26900087, 53400084, 28401431, 45602475, 56300097, 45602291, 4804713, 29100083, 35108989, 23700344, 2502283, 39700145, 45602483, 45602539, 10400810, 28721919, 1201579, 28721882, 5701411, 28721847, 39700128, 5701410, 13800635, 4201606, 10900405, 12600109, 39700173, 28401468, 45602460, 7005330, 1307142, 3701597, 39700137, 28401464, 45602534, 1307532, 4803632, 5701413, 8902782, 28721851, 5801742, 39700134, 7006039, 39700163, 43300157, 12600113, 29100084, 46800034, 46800035, 22600100, 39700175, 50600095]\n",
      "------------------------------------------------\n",
      "product_id numbers with brand information found!\n",
      "------------------------------------------------\n"
     ]
    }
   ],
   "source": [
    "#to fill in the missing data in the 'brand' column, the number in the 'product_id' column will be for reference.\n",
    "#for each 'product_id' that is missing a 'brand', we look up the 'product_id' with 'brand' information in the same table.\n",
    "\n",
    "#list of 'product_id' numbers with missing value in 'brand'\n",
    "proid_brand_null = df[df['brand'].isnull()]['product_id'].unique()\n",
    "#list of 'product_id' numbers with value in 'brand'\n",
    "proid_brand_notnull = df[df['brand'].notnull()]['product_id'].unique()\n",
    "\n",
    "#find 'product_id' numbers with 'brand' information into the missing value 'brand' list\n",
    "proid_list = []\n",
    "for proid in proid_brand_notnull:\n",
    "    if proid in proid_brand_null:\n",
    "        proid_list.append(proid)\n",
    "if len(proid_list) > 0:\n",
    "    print(proid_list)\n",
    "    print('------------------------------------------------')\n",
    "    print('product_id numbers with brand information found!')\n",
    "    print('------------------------------------------------')\n",
    "else:\n",
    "    print('---------------------------------------------------')\n",
    "    print('product_id numbers with brand information not found')\n",
    "    print('---------------------------------------------------')"
   ]
  },
  {
   "cell_type": "code",
   "execution_count": 9,
   "metadata": {},
   "outputs": [
    {
     "name": "stdout",
     "output_type": "stream",
     "text": [
      "-----------------------------------\n",
      "Brand names completed successfully!\n",
      "-----------------------------------\n"
     ]
    }
   ],
   "source": [
    "#DataFrame with brand not null \n",
    "df_with_brand = df[df['brand'].notnull()]\n",
    "#DataFrame with brand null and the Product ID from proid_list\n",
    "df_without_brand = df[df['brand'].isnull()].loc[df['product_id'].isin(proid_list)]\n",
    "#brand dictionary creation\n",
    "brand_dict = {}\n",
    "for proid in proid_list:\n",
    "    brand = df_with_brand[df_with_brand['product_id'] == proid]['brand'].values[0]\n",
    "    brand_dict[proid] = brand\n",
    "# Update the `brand` column in `df_nobrand` with the corresponding brand name from the dictionary.\n",
    "df_without_brand['brand'] = df_without_brand['product_id'].apply(lambda x: brand_dict[x])\n",
    "print('-----------------------------------')\n",
    "print('Brand names completed successfully!')\n",
    "print('-----------------------------------')"
   ]
  },
  {
   "cell_type": "code",
   "execution_count": 10,
   "metadata": {},
   "outputs": [
    {
     "name": "stdout",
     "output_type": "stream",
     "text": [
      "--------------------------------------------------------\n",
      "Rows with missing data in brand was removed successfully\n",
      "--------------------------------------------------------\n"
     ]
    }
   ],
   "source": [
    "#the remaining data missing in 'brand' does not have 'product_id' numbers to be identified\n",
    "#drop row where 'brand' is missing data \n",
    "df = df.dropna(axis=0,subset='brand')\n",
    "print('--------------------------------------------------------')\n",
    "print('Rows with missing data in brand was removed successfully')\n",
    "print('--------------------------------------------------------')"
   ]
  },
  {
   "cell_type": "code",
   "execution_count": 11,
   "metadata": {},
   "outputs": [
    {
     "name": "stdout",
     "output_type": "stream",
     "text": [
      "--------------------------\n",
      "Percentage of Missing Data\n",
      "--------------------------\n"
     ]
    },
    {
     "data": {
      "text/plain": [
       "event_time       0.0\n",
       "event_type       0.0\n",
       "product_id       0.0\n",
       "category_id      0.0\n",
       "category_code    0.0\n",
       "brand            0.0\n",
       "price            0.0\n",
       "user_id          0.0\n",
       "user_session     0.0\n",
       "dtype: float64"
      ]
     },
     "execution_count": 11,
     "metadata": {},
     "output_type": "execute_result"
    }
   ],
   "source": [
    "#check the percentage of missing data\n",
    "print('--------------------------')\n",
    "print('Percentage of Missing Data')\n",
    "print('--------------------------')\n",
    "100 * df.isnull().sum() / len(df)"
   ]
  },
  {
   "cell_type": "markdown",
   "metadata": {},
   "source": [
    "#### 3. PRODUCT RECOMMENDATION ALGORITHM"
   ]
  },
  {
   "cell_type": "markdown",
   "metadata": {},
   "source": [
    "3.1 Data preparation for the Product Recommendation Algorithm"
   ]
  },
  {
   "cell_type": "code",
   "execution_count": 12,
   "metadata": {},
   "outputs": [
    {
     "name": "stdout",
     "output_type": "stream",
     "text": [
      "--------------------------------------------------------\n",
      "Columns for the product recommendation algorithm Preview\n",
      "--------------------------------------------------------\n"
     ]
    },
    {
     "data": {
      "text/html": [
       "<div>\n",
       "<style scoped>\n",
       "    .dataframe tbody tr th:only-of-type {\n",
       "        vertical-align: middle;\n",
       "    }\n",
       "\n",
       "    .dataframe tbody tr th {\n",
       "        vertical-align: top;\n",
       "    }\n",
       "\n",
       "    .dataframe thead th {\n",
       "        text-align: right;\n",
       "    }\n",
       "</style>\n",
       "<table border=\"1\" class=\"dataframe\">\n",
       "  <thead>\n",
       "    <tr style=\"text-align: right;\">\n",
       "      <th></th>\n",
       "      <th>event_type</th>\n",
       "      <th>category_code</th>\n",
       "      <th>brand</th>\n",
       "      <th>user_id</th>\n",
       "    </tr>\n",
       "  </thead>\n",
       "  <tbody>\n",
       "    <tr>\n",
       "      <th>1</th>\n",
       "      <td>view</td>\n",
       "      <td>appliances.environment.water_heater</td>\n",
       "      <td>aqua</td>\n",
       "      <td>554748717</td>\n",
       "    </tr>\n",
       "    <tr>\n",
       "      <th>3</th>\n",
       "      <td>view</td>\n",
       "      <td>computers.notebook</td>\n",
       "      <td>lenovo</td>\n",
       "      <td>550050854</td>\n",
       "    </tr>\n",
       "    <tr>\n",
       "      <th>4</th>\n",
       "      <td>view</td>\n",
       "      <td>electronics.smartphone</td>\n",
       "      <td>apple</td>\n",
       "      <td>535871217</td>\n",
       "    </tr>\n",
       "  </tbody>\n",
       "</table>\n",
       "</div>"
      ],
      "text/plain": [
       "  event_type                        category_code   brand    user_id\n",
       "1       view  appliances.environment.water_heater    aqua  554748717\n",
       "3       view                   computers.notebook  lenovo  550050854\n",
       "4       view               electronics.smartphone   apple  535871217"
      ]
     },
     "execution_count": 12,
     "metadata": {},
     "output_type": "execute_result"
    }
   ],
   "source": [
    "#columns for the product recommendation algorithm\n",
    "data = df[['event_type', 'category_code', 'brand', 'user_id']]\n",
    "print('--------------------------------------------------------')\n",
    "print('Columns for the product recommendation algorithm Preview')\n",
    "print('--------------------------------------------------------')\n",
    "data.head(3)"
   ]
  },
  {
   "cell_type": "code",
   "execution_count": 13,
   "metadata": {},
   "outputs": [
    {
     "name": "stdout",
     "output_type": "stream",
     "text": [
      "-----------------------------------\n",
      "Column PRODUCT created Successfully\n",
      "-----------------------------------\n"
     ]
    },
    {
     "name": "stderr",
     "output_type": "stream",
     "text": [
      "/tmp/ipykernel_102400/1169526978.py:2: SettingWithCopyWarning: \n",
      "A value is trying to be set on a copy of a slice from a DataFrame.\n",
      "Try using .loc[row_indexer,col_indexer] = value instead\n",
      "\n",
      "See the caveats in the documentation: https://pandas.pydata.org/pandas-docs/stable/user_guide/indexing.html#returning-a-view-versus-a-copy\n",
      "  data['product'] = data.apply(lambda row: f\"{row['category_code']} {row['brand']}\", axis=1)\n"
     ]
    },
    {
     "data": {
      "text/html": [
       "<div>\n",
       "<style scoped>\n",
       "    .dataframe tbody tr th:only-of-type {\n",
       "        vertical-align: middle;\n",
       "    }\n",
       "\n",
       "    .dataframe tbody tr th {\n",
       "        vertical-align: top;\n",
       "    }\n",
       "\n",
       "    .dataframe thead th {\n",
       "        text-align: right;\n",
       "    }\n",
       "</style>\n",
       "<table border=\"1\" class=\"dataframe\">\n",
       "  <thead>\n",
       "    <tr style=\"text-align: right;\">\n",
       "      <th></th>\n",
       "      <th>event_type</th>\n",
       "      <th>category_code</th>\n",
       "      <th>brand</th>\n",
       "      <th>user_id</th>\n",
       "      <th>product</th>\n",
       "    </tr>\n",
       "  </thead>\n",
       "  <tbody>\n",
       "    <tr>\n",
       "      <th>1</th>\n",
       "      <td>view</td>\n",
       "      <td>appliances.environment.water_heater</td>\n",
       "      <td>aqua</td>\n",
       "      <td>554748717</td>\n",
       "      <td>appliances.environment.water_heater aqua</td>\n",
       "    </tr>\n",
       "    <tr>\n",
       "      <th>3</th>\n",
       "      <td>view</td>\n",
       "      <td>computers.notebook</td>\n",
       "      <td>lenovo</td>\n",
       "      <td>550050854</td>\n",
       "      <td>computers.notebook lenovo</td>\n",
       "    </tr>\n",
       "    <tr>\n",
       "      <th>4</th>\n",
       "      <td>view</td>\n",
       "      <td>electronics.smartphone</td>\n",
       "      <td>apple</td>\n",
       "      <td>535871217</td>\n",
       "      <td>electronics.smartphone apple</td>\n",
       "    </tr>\n",
       "  </tbody>\n",
       "</table>\n",
       "</div>"
      ],
      "text/plain": [
       "  event_type                        category_code   brand    user_id  \\\n",
       "1       view  appliances.environment.water_heater    aqua  554748717   \n",
       "3       view                   computers.notebook  lenovo  550050854   \n",
       "4       view               electronics.smartphone   apple  535871217   \n",
       "\n",
       "                                    product  \n",
       "1  appliances.environment.water_heater aqua  \n",
       "3                 computers.notebook lenovo  \n",
       "4              electronics.smartphone apple  "
      ]
     },
     "execution_count": 13,
     "metadata": {},
     "output_type": "execute_result"
    }
   ],
   "source": [
    "#Create a column to combine the information from the columns \"product_id, category_code, brand\"\n",
    "data['product'] = data.apply(lambda row: f\"{row['category_code']} {row['brand']}\", axis=1)\n",
    "print('-----------------------------------')\n",
    "print('Column PRODUCT created Successfully')\n",
    "print('-----------------------------------')\n",
    "data.head(3)"
   ]
  },
  {
   "cell_type": "code",
   "execution_count": 14,
   "metadata": {},
   "outputs": [
    {
     "name": "stdout",
     "output_type": "stream",
     "text": [
      "-------------------------------------------------------------------\n",
      "Final Columns data for the PRODUCT RECOMMENDATION ALGORITHM Preview\n",
      "-------------------------------------------------------------------\n"
     ]
    },
    {
     "data": {
      "text/html": [
       "<div>\n",
       "<style scoped>\n",
       "    .dataframe tbody tr th:only-of-type {\n",
       "        vertical-align: middle;\n",
       "    }\n",
       "\n",
       "    .dataframe tbody tr th {\n",
       "        vertical-align: top;\n",
       "    }\n",
       "\n",
       "    .dataframe thead th {\n",
       "        text-align: right;\n",
       "    }\n",
       "</style>\n",
       "<table border=\"1\" class=\"dataframe\">\n",
       "  <thead>\n",
       "    <tr style=\"text-align: right;\">\n",
       "      <th></th>\n",
       "      <th>event_type</th>\n",
       "      <th>user_id</th>\n",
       "      <th>product</th>\n",
       "    </tr>\n",
       "  </thead>\n",
       "  <tbody>\n",
       "    <tr>\n",
       "      <th>1</th>\n",
       "      <td>view</td>\n",
       "      <td>554748717</td>\n",
       "      <td>appliances.environment.water_heater aqua</td>\n",
       "    </tr>\n",
       "    <tr>\n",
       "      <th>3</th>\n",
       "      <td>view</td>\n",
       "      <td>550050854</td>\n",
       "      <td>computers.notebook lenovo</td>\n",
       "    </tr>\n",
       "    <tr>\n",
       "      <th>4</th>\n",
       "      <td>view</td>\n",
       "      <td>535871217</td>\n",
       "      <td>electronics.smartphone apple</td>\n",
       "    </tr>\n",
       "  </tbody>\n",
       "</table>\n",
       "</div>"
      ],
      "text/plain": [
       "  event_type    user_id                                   product\n",
       "1       view  554748717  appliances.environment.water_heater aqua\n",
       "3       view  550050854                 computers.notebook lenovo\n",
       "4       view  535871217              electronics.smartphone apple"
      ]
     },
     "execution_count": 14,
     "metadata": {},
     "output_type": "execute_result"
    }
   ],
   "source": [
    "#final columns for the product recommendation algorithm\n",
    "data = data[['event_type', 'user_id', 'product']]\n",
    "print('-------------------------------------------------------------------')\n",
    "print('Final Columns data for the PRODUCT RECOMMENDATION ALGORITHM Preview')\n",
    "print('-------------------------------------------------------------------')\n",
    "data.head(3)"
   ]
  },
  {
   "cell_type": "code",
   "execution_count": 15,
   "metadata": {},
   "outputs": [
    {
     "name": "stdout",
     "output_type": "stream",
     "text": [
      "--------------------------------------------------\n",
      "DataFrame with a unique combination - Successfully\n",
      "--------------------------------------------------\n"
     ]
    }
   ],
   "source": [
    "#Update the DataFrame with a unique combination of values among 'event_type','user_id' and 'product' columns\n",
    "data = data.drop_duplicates(subset=['event_type',  'user_id', 'product'])\n",
    "print('--------------------------------------------------')\n",
    "print('DataFrame with a unique combination - Successfully')\n",
    "print('--------------------------------------------------')"
   ]
  },
  {
   "cell_type": "markdown",
   "metadata": {},
   "source": [
    "3.2 Creating the Cosine Similarity Matrix"
   ]
  },
  {
   "cell_type": "code",
   "execution_count": 18,
   "metadata": {},
   "outputs": [
    {
     "name": "stdout",
     "output_type": "stream",
     "text": [
      "---------------------------------\n",
      "Product list created Successfully\n",
      "---------------------------------\n"
     ]
    }
   ],
   "source": [
    "#creating a product list for cosine similarity\n",
    "product_list = data['product'].copy()\n",
    "#dropping duplicate values\n",
    "product_list = product_list.drop_duplicates()\n",
    "#reseting the index\n",
    "product_list = product_list.reset_index(drop=True)\n",
    "print('---------------------------------')\n",
    "print('Product list created Successfully')\n",
    "print('---------------------------------')"
   ]
  },
  {
   "cell_type": "code",
   "execution_count": 19,
   "metadata": {},
   "outputs": [
    {
     "name": "stdout",
     "output_type": "stream",
     "text": [
      "---------------------------------------------\n",
      "Cosine Similarity Matrix created Successfully\n",
      "---------------------------------------------\n"
     ]
    }
   ],
   "source": [
    "#convert the text in the product list to a word counts matrix (wcm)\n",
    "wcm = CountVectorizer().fit_transform(product_list)\n",
    "#Cosine Similarity Matrix (csm) from the word counts matrix (wcm)\n",
    "csm = cosine_similarity(wcm)\n",
    "print('---------------------------------------------')\n",
    "print('Cosine Similarity Matrix created Successfully')\n",
    "print('---------------------------------------------')"
   ]
  },
  {
   "cell_type": "markdown",
   "metadata": {},
   "source": [
    "3.3 create a function to determine the recommended product for a specific user"
   ]
  },
  {
   "cell_type": "code",
   "execution_count": 20,
   "metadata": {},
   "outputs": [],
   "source": [
    "def recommend_product(user_id):\n",
    "    #viewed products\n",
    "    viewed_products = data['product'][data['user_id'] == user_id]\n",
    "    #viewed products list (vpl)\n",
    "    vpl = []\n",
    "    for y in viewed_products:\n",
    "        vpl.append(y)\n",
    "    #product viewed\n",
    "    product_viewed = viewed_products.values[0]\n",
    "\n",
    "    #index of the product viewed in the product list\n",
    "    prod_index = product_list[product_list==product_viewed].index[0]\n",
    "\n",
    "    #recommended product list\n",
    "    recommended_products_score = list(enumerate(csm[prod_index]))\n",
    "    sorted_recommended_products = sorted(recommended_products_score, key=lambda x:x[1], reverse=True)\n",
    "    sorted_recommended_products = sorted_recommended_products[1:]\n",
    "    recomm_prod_list = []\n",
    "    for x in sorted_recommended_products:\n",
    "        if product_list[x[0]] in vpl:\n",
    "            continue\n",
    "        else:\n",
    "            recomm_prod_list.append(product_list[x[0]])\n",
    "    \n",
    "    return recomm_prod_list[:3]"
   ]
  },
  {
   "cell_type": "markdown",
   "metadata": {},
   "source": [
    "3.4 Running function to determine recommended product for a specific user"
   ]
  },
  {
   "cell_type": "code",
   "execution_count": 42,
   "metadata": {},
   "outputs": [
    {
     "name": "stdout",
     "output_type": "stream",
     "text": [
      "The user 512913767 viewed the item: \"electronics.smartphone xiaomi\", the recommended product are:\n",
      "\n",
      "1 electronics.smartphone huawei\n",
      "2 electronics.smartphone samsung\n",
      "3 electronics.smartphone nokia\n"
     ]
    }
   ],
   "source": [
    "# Select a random user_id\n",
    "import random\n",
    "user_id = random.choice(data[\"user_id\"])\n",
    "\n",
    "#product viewed\n",
    "product_viewed = (data['product'][data['user_id'] == user_id]).values[0]\n",
    "\n",
    "#PRODUCTS RECOMMENDATION\n",
    "print('The user {} viewed the item: \\\"{}\\\", the recommended products are:\\n'.format(user_id, product_viewed))\n",
    "# print()\n",
    "# print('The recommended product are:\\n')\n",
    "j=0\n",
    "for item in recommend_product(user_id):\n",
    "    print(j+1, item)\n",
    "    j += 1"
   ]
  },
  {
   "cell_type": "markdown",
   "metadata": {},
   "source": [
    "#### 4. CONCLUSION\n",
    "\n",
    "The code provided is a simple but effective product recommendation algorithm that uses cosine similarity to recommend products to users based on the items they have viewed. It is easy to implement and can be used to increase sales on e-commerce websites by making it easier for users to find the products they want to buy.\n",
    "\n",
    "Here are some specific benefits of using this algorithm:\n",
    "\n",
    "- It is personalized to each user's individual interests, based on the products they have viewed in the past.\n",
    "- It is scalable to large datasets of products and users.\n",
    "- It is efficient to compute, making it suitable for real-time recommendations.\n",
    "- It is simple to implement and maintain.\n",
    "\n",
    "Overall, the code provided is a valuable tool for e-commerce websites that want to improve their product recommendation system and increase sales."
   ]
  }
 ],
 "metadata": {
  "kernelspec": {
   "display_name": ".venv",
   "language": "python",
   "name": "python3"
  },
  "language_info": {
   "codemirror_mode": {
    "name": "ipython",
    "version": 3
   },
   "file_extension": ".py",
   "mimetype": "text/x-python",
   "name": "python",
   "nbconvert_exporter": "python",
   "pygments_lexer": "ipython3",
   "version": "3.10.12"
  },
  "orig_nbformat": 4
 },
 "nbformat": 4,
 "nbformat_minor": 2
}
